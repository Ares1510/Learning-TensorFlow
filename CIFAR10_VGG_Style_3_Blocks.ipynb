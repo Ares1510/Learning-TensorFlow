{
  "nbformat": 4,
  "nbformat_minor": 0,
  "metadata": {
    "kernelspec": {
      "name": "python3",
      "display_name": "Python 3"
    },
    "colab": {
      "name": "CIFAR10 - VGG Style 3 Blocks.ipynb",
      "provenance": [],
      "include_colab_link": true
    },
    "accelerator": "GPU"
  },
  "cells": [
    {
      "cell_type": "markdown",
      "metadata": {
        "id": "view-in-github",
        "colab_type": "text"
      },
      "source": [
        "<a href=\"https://colab.research.google.com/github/Ares1510/Learning-TensorFlow/blob/master/CIFAR10_VGG_Style_3_Blocks.ipynb\" target=\"_parent\"><img src=\"https://colab.research.google.com/assets/colab-badge.svg\" alt=\"Open In Colab\"/></a>"
      ]
    },
    {
      "cell_type": "code",
      "metadata": {
        "id": "iTxabT_bimQt",
        "colab_type": "code",
        "colab": {}
      },
      "source": [
        "import tensorflow as tf\n",
        "from tensorflow import keras\n",
        "import numpy as np\n",
        "import matplotlib.pyplot as plt"
      ],
      "execution_count": 0,
      "outputs": []
    },
    {
      "cell_type": "code",
      "metadata": {
        "id": "jDFWQGLTimQy",
        "colab_type": "code",
        "colab": {}
      },
      "source": [
        "cf10 = keras.datasets.cifar10"
      ],
      "execution_count": 0,
      "outputs": []
    },
    {
      "cell_type": "code",
      "metadata": {
        "id": "5s-7nXMzimQ1",
        "colab_type": "code",
        "colab": {
          "base_uri": "https://localhost:8080/",
          "height": 50
        },
        "outputId": "e9439b6f-e7e6-486b-f327-9e55d543edfd"
      },
      "source": [
        "(x_train,y_train), (x_test, y_test) = cf10.load_data()"
      ],
      "execution_count": 3,
      "outputs": [
        {
          "output_type": "stream",
          "text": [
            "Downloading data from https://www.cs.toronto.edu/~kriz/cifar-10-python.tar.gz\n",
            "170500096/170498071 [==============================] - 13s 0us/step\n"
          ],
          "name": "stdout"
        }
      ]
    },
    {
      "cell_type": "code",
      "metadata": {
        "id": "14AIcomIimQ4",
        "colab_type": "code",
        "colab": {}
      },
      "source": [
        "x_train, x_test = x_train / 255., x_test / 255."
      ],
      "execution_count": 0,
      "outputs": []
    },
    {
      "cell_type": "code",
      "metadata": {
        "id": "yee7zbZZimQ6",
        "colab_type": "code",
        "colab": {}
      },
      "source": [
        "model = keras.models.Sequential()\n",
        "model.add(keras.layers.Conv2D(64, (3,3), activation='relu', padding='same', kernel_initializer='he_uniform'))\n",
        "model.add(keras.layers.MaxPooling2D((2,2)))\n",
        "model.add(keras.layers.Conv2D(128, (3,3), activation='relu', padding='same', kernel_initializer='he_uniform'))\n",
        "model.add(keras.layers.MaxPooling2D((2,2)))\n",
        "model.add(keras.layers.Conv2D(256, (3,3), activation='relu', padding='same', kernel_initializer='he_uniform'))\n",
        "model.add(keras.layers.MaxPooling2D((2,2)))\n",
        "model.add(tf.keras.layers.Flatten())\n",
        "model.add(tf.keras.layers.Dense(256, activation='relu'))\n",
        "model.add(tf.keras.layers.Dense(128, activation='relu'))\n",
        "model.add(tf.keras.layers.Dense(10, activation='softmax'))"
      ],
      "execution_count": 0,
      "outputs": []
    },
    {
      "cell_type": "code",
      "metadata": {
        "id": "rV7qlL7_imQ9",
        "colab_type": "code",
        "colab": {}
      },
      "source": [
        "model.compile(optimizer='adam', loss='sparse_categorical_crossentropy', metrics=['sparse_categorical_accuracy'])"
      ],
      "execution_count": 0,
      "outputs": []
    },
    {
      "cell_type": "code",
      "metadata": {
        "id": "RkhZOG1limRA",
        "colab_type": "code",
        "colab": {
          "base_uri": "https://localhost:8080/",
          "height": 353
        },
        "outputId": "a6f0aae9-6b5e-47ad-882c-c185a2b69ecd"
      },
      "source": [
        "history = model.fit(x_train, y_train, epochs=10, batch_size=15, validation_data=(x_test,y_test))"
      ],
      "execution_count": 12,
      "outputs": [
        {
          "output_type": "stream",
          "text": [
            "Epoch 1/10\n",
            "3334/3334 [==============================] - 16s 5ms/step - loss: 1.3021 - sparse_categorical_accuracy: 0.5334 - val_loss: 1.0387 - val_sparse_categorical_accuracy: 0.6289\n",
            "Epoch 2/10\n",
            "3334/3334 [==============================] - 16s 5ms/step - loss: 0.8758 - sparse_categorical_accuracy: 0.6975 - val_loss: 0.8625 - val_sparse_categorical_accuracy: 0.7052\n",
            "Epoch 3/10\n",
            "3334/3334 [==============================] - 16s 5ms/step - loss: 0.7074 - sparse_categorical_accuracy: 0.7523 - val_loss: 0.7827 - val_sparse_categorical_accuracy: 0.7271\n",
            "Epoch 4/10\n",
            "3334/3334 [==============================] - 16s 5ms/step - loss: 0.5896 - sparse_categorical_accuracy: 0.7937 - val_loss: 0.7992 - val_sparse_categorical_accuracy: 0.7352\n",
            "Epoch 5/10\n",
            "3334/3334 [==============================] - 16s 5ms/step - loss: 0.4906 - sparse_categorical_accuracy: 0.8283 - val_loss: 0.7984 - val_sparse_categorical_accuracy: 0.7473\n",
            "Epoch 6/10\n",
            "3334/3334 [==============================] - 16s 5ms/step - loss: 0.4065 - sparse_categorical_accuracy: 0.8575 - val_loss: 0.8510 - val_sparse_categorical_accuracy: 0.7428\n",
            "Epoch 7/10\n",
            "3334/3334 [==============================] - 16s 5ms/step - loss: 0.3406 - sparse_categorical_accuracy: 0.8811 - val_loss: 0.9343 - val_sparse_categorical_accuracy: 0.7399\n",
            "Epoch 8/10\n",
            "3334/3334 [==============================] - 16s 5ms/step - loss: 0.2952 - sparse_categorical_accuracy: 0.8961 - val_loss: 0.9604 - val_sparse_categorical_accuracy: 0.7460\n",
            "Epoch 9/10\n",
            "3334/3334 [==============================] - 16s 5ms/step - loss: 0.2557 - sparse_categorical_accuracy: 0.9115 - val_loss: 1.0071 - val_sparse_categorical_accuracy: 0.7472\n",
            "Epoch 10/10\n",
            "3334/3334 [==============================] - 17s 5ms/step - loss: 0.2258 - sparse_categorical_accuracy: 0.9216 - val_loss: 1.1211 - val_sparse_categorical_accuracy: 0.7437\n"
          ],
          "name": "stdout"
        }
      ]
    },
    {
      "cell_type": "code",
      "metadata": {
        "id": "2KTmdFKvimRF",
        "colab_type": "code",
        "colab": {
          "base_uri": "https://localhost:8080/",
          "height": 513
        },
        "outputId": "5f71a857-b6fe-4f3c-9e81-e7e6ba869a03"
      },
      "source": [
        "acc = history.history['sparse_categorical_accuracy']\n",
        "val_acc = history.history['val_sparse_categorical_accuracy']\n",
        "\n",
        "loss = history.history['loss']\n",
        "val_loss = history.history['val_loss']\n",
        "\n",
        "plt.figure(figsize=(8, 8))\n",
        "plt.subplot(2, 1, 1)\n",
        "plt.plot(acc, label='Training Accuracy')\n",
        "plt.plot(val_acc, label='Validation Accuracy')\n",
        "plt.legend(loc='lower right')\n",
        "plt.ylabel('Accuracy')\n",
        "plt.ylim([min(plt.ylim()),1])\n",
        "plt.title('Training and Validation Accuracy')\n",
        "\n",
        "plt.subplot(2, 1, 2)\n",
        "plt.plot(loss, label='Training Loss')\n",
        "plt.plot(val_loss, label='Validation Loss')\n",
        "plt.legend(loc='upper right')\n",
        "plt.ylabel('Cross Entropy')\n",
        "plt.ylim([0,1.0])\n",
        "plt.title('Training and Validation Loss')\n",
        "plt.xlabel('epoch')\n",
        "plt.show()"
      ],
      "execution_count": 9,
      "outputs": [
        {
          "output_type": "display_data",
          "data": {
            "image/png": "[encoded data removed]",
            "text/plain": [
              "<Figure size 576x576 with 2 Axes>"
            ]
          },
          "metadata": {
            "tags": []
          }
        }
      ]
    },
    {
      "cell_type": "code",
      "metadata": {
        "id": "XBBZgLTyimRH",
        "colab_type": "code",
        "colab": {}
      },
      "source": [
        ""
      ],
      "execution_count": 0,
      "outputs": []
    }
  ]
}