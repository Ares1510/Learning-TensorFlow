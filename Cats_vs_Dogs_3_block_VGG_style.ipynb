{
  "nbformat": 4,
  "nbformat_minor": 0,
  "metadata": {
    "colab": {
      "name": "Cats-vs-Dogs 3 block VGG style",
      "provenance": [],
      "collapsed_sections": [],
      "mount_file_id": "1BTWL3sS8X5yAEqv5m2HKkV6B17cQ8PqD",
      "authorship_tag": "ABX9TyOT6IEISnA28CHX6u75cmiW",
      "include_colab_link": true
    },
    "kernelspec": {
      "name": "python3",
      "display_name": "Python 3"
    },
    "accelerator": "GPU"
  },
  "cells": [
    {
      "cell_type": "markdown",
      "metadata": {
        "id": "view-in-github",
        "colab_type": "text"
      },
      "source": [
        "<a href=\"https://colab.research.google.com/github/Ares1510/Learning-TensorFlow/blob/master/Cats_vs_Dogs_3_block_VGG_style.ipynb\" target=\"_parent\"><img src=\"https://colab.research.google.com/assets/colab-badge.svg\" alt=\"Open In Colab\"/></a>"
      ]
    },
    {
      "cell_type": "code",
      "metadata": {
        "id": "Llbj8Zewr0Uc",
        "colab_type": "code",
        "colab": {}
      },
      "source": [
        "import numpy as np\n",
        "import tensorflow as tf\n",
        "from tensorflow import keras\n",
        "from zipfile import ZipFile\n",
        "import os\n",
        "import shutil\n",
        "from pathlib import Path\n",
        "from tensorflow.keras.preprocessing.image import ImageDataGenerator"
      ],
      "execution_count": 0,
      "outputs": []
    },
    {
      "cell_type": "code",
      "metadata": {
        "id": "I3oAIuwT-EOd",
        "colab_type": "code",
        "colab": {}
      },
      "source": [
        "# Data Preprocessing Steps\n",
        "\n",
        "#Unzipping Files\n",
        "train_zip = ZipFile('/content/drive/My Drive/dogs-vs-cats/train.zip')\n",
        "train_zip.extractall('/content')\n",
        "test_zip = ZipFile('/content/drive/My Drive/dogs-vs-cats/test1.zip')\n",
        "test_zip.extractall('/content')\n",
        "\n",
        "#Creating new directories\n",
        "os.mkdir('/content/dogs-vs-cats')\n",
        "os.mkdir('/content/dogs-vs-cats/train')\n",
        "os.mkdir('/content/dogs-vs-cats/test')\n",
        "os.mkdir('/content/dogs-vs-cats/train/cats')\n",
        "os.mkdir('/content/dogs-vs-cats/train/dogs')\n",
        "\n",
        "SRC = '/content/train'\n",
        "DEST_CATS = '/content/dogs-vs-cats/train/cats'\n",
        "DEST_DOGS = '/content/dogs-vs-cats/train/dogs'\n",
        "\n",
        "#Moving train and test files into new directories\n",
        "files = (file for file in os.listdir(SRC) if os.path.isfile(os.path.join(SRC, file)))\n",
        "for file in files:\n",
        "  if 'cat' in Path(SRC + '/' + file).stem:\n",
        "    shutil.copy(SRC + '/' + file, DEST_CATS + '/' + file)\n",
        "  else:\n",
        "    shutil.copy(SRC + '/' + file, DEST_DOGS + '/' + file)\n",
        "\n",
        "for file in os.listdir('/content/test1'):\n",
        "  shutil.copy('/content/test1' + '/' + file, '/content/dogs-vs-cats/test' + '/' + file)"
      ],
      "execution_count": 0,
      "outputs": []
    },
    {
      "cell_type": "code",
      "metadata": {
        "id": "a3_kL_SQDUFk",
        "colab_type": "code",
        "colab": {}
      },
      "source": [
        "#Setting train and test directories for ImageDataGenerator\n",
        "TRAIN_DIR = '/content/dogs-vs-cats/train/'\n",
        "TEST_DIR = '/content/dogs-vs-cats/test'"
      ],
      "execution_count": 0,
      "outputs": []
    },
    {
      "cell_type": "code",
      "metadata": {
        "id": "1DlP6e299s8o",
        "colab_type": "code",
        "outputId": "66ee6716-bfea-4ef9-fac9-89d10ccac8fb",
        "colab": {
          "base_uri": "https://localhost:8080/",
          "height": 51
        }
      },
      "source": [
        "train_datagen = ImageDataGenerator(rescale=1./255, validation_split=0.2, rotation_range=40, width_shift_range=0.2, height_shift_range=0.2, shear_range=0.2, zoom_range=0.2, horizontal_flip=True, fill_mode='nearest')\n",
        "train_gen = train_datagen.flow_from_directory(TRAIN_DIR, target_size=(300,300), batch_size=64, class_mode='binary', subset='training')\n",
        "validation_gen = train_datagen.flow_from_directory(TRAIN_DIR, target_size=(300,300), batch_size=64, class_mode='binary', subset='validation')"
      ],
      "execution_count": 10,
      "outputs": [
        {
          "output_type": "stream",
          "text": [
            "Found 20000 images belonging to 2 classes.\n",
            "Found 5000 images belonging to 2 classes.\n"
          ],
          "name": "stdout"
        }
      ]
    },
    {
      "cell_type": "code",
      "metadata": {
        "id": "4uzzK4gpD9NO",
        "colab_type": "code",
        "colab": {}
      },
      "source": [
        "#Creating the model\n",
        "model = tf.keras.models.Sequential()\n",
        "model.add(tf.keras.layers.Conv2D(64, (3,3), activation='relu', padding='same', kernel_initializer='he_uniform'))\n",
        "model.add(tf.keras.layers.MaxPooling2D((2,2), ))\n",
        "model.add(tf.keras.layers.Dropout(0.2))\n",
        "model.add(tf.keras.layers.Conv2D(128, (3,3), activation='relu', padding='same', kernel_initializer='he_uniform'))\n",
        "model.add(tf.keras.layers.MaxPooling2D(2,2))\n",
        "model.add(tf.keras.layers.Dropout(0.2))\n",
        "model.add(tf.keras.layers.Conv2D(256, (3,3), activation='relu', padding='same', kernel_initializer='he_uniform'))\n",
        "model.add(tf.keras.layers.MaxPooling2D(2,2))\n",
        "model.add(tf.keras.layers.Dropout(0.2))\n",
        "model.add(tf.keras.layers.Flatten())\n",
        "model.add(tf.keras.layers.Dense(512, activation='relu'))\n",
        "model.add(tf.keras.layers.Dense(256, activation='relu'))\n",
        "model.add(tf.keras.layers.Dense(1, activation='sigmoid'))"
      ],
      "execution_count": 0,
      "outputs": []
    },
    {
      "cell_type": "code",
      "metadata": {
        "id": "KUGiIZSTJRnl",
        "colab_type": "code",
        "colab": {}
      },
      "source": [
        "model.compile(optimizer='adam', loss='binary_crossentropy', metrics=['accuracy'])"
      ],
      "execution_count": 0,
      "outputs": []
    },
    {
      "cell_type": "code",
      "metadata": {
        "id": "6jJom9RTG9o2",
        "colab_type": "code",
        "outputId": "c65dbde7-5a46-40c0-8e7d-dda281970e12",
        "colab": {
          "base_uri": "https://localhost:8080/",
          "height": 170
        }
      },
      "source": [
        "model.fit_generator(train_gen, steps_per_epoch=150, epochs=4, validation_data=validation_gen, validation_steps=150, verbose=1)"
      ],
      "execution_count": 13,
      "outputs": [
        {
          "output_type": "stream",
          "text": [
            "Epoch 1/4\n",
            "150/150 [==============================] - 384s 3s/step - loss: 6.7666 - accuracy: 0.4951 - val_loss: 0.6927 - val_accuracy: 0.5194\n",
            "Epoch 2/4\n",
            "150/150 [==============================] - 384s 3s/step - loss: 0.6927 - accuracy: 0.5097 - val_loss: 0.6920 - val_accuracy: 0.4974\n",
            "Epoch 3/4\n",
            "150/150 [==============================] - 381s 3s/step - loss: 0.6873 - accuracy: 0.5386 - val_loss: 0.6840 - val_accuracy: 0.5606\n",
            "Epoch 4/4\n",
            "150/150 [==============================] - 371s 2s/step - loss: 0.6839 - accuracy: 0.5599 - val_loss: 0.6781 - val_accuracy: 0.5783\n"
          ],
          "name": "stdout"
        },
        {
          "output_type": "execute_result",
          "data": {
            "text/plain": [
              "<tensorflow.python.keras.callbacks.History at 0x7f734e1746d8>"
            ]
          },
          "metadata": {
            "tags": []
          },
          "execution_count": 13
        }
      ]
    },
    {
      "cell_type": "code",
      "metadata": {
        "id": "6SdqyDIrJftg",
        "colab_type": "code",
        "colab": {}
      },
      "source": [
        ""
      ],
      "execution_count": 0,
      "outputs": []
    },
    {
      "cell_type": "code",
      "metadata": {
        "id": "P-IfxIRJpsBX",
        "colab_type": "code",
        "colab": {}
      },
      "source": [
        ""
      ],
      "execution_count": 0,
      "outputs": []
    }
  ]
}